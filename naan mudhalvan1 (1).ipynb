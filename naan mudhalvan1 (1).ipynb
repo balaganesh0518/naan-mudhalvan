{
  "metadata": {
    "kernelspec": {
      "name": "python",
      "display_name": "Python (Pyodide)",
      "language": "python"
    },
    "language_info": {
      "codemirror_mode": {
        "name": "python",
        "version": 3
      },
      "file_extension": ".py",
      "mimetype": "text/x-python",
      "name": "python",
      "nbconvert_exporter": "python",
      "pygments_lexer": "ipython3",
      "version": "3.8"
    }
  },
  "nbformat_minor": 5,
  "nbformat": 4,
  "cells": [
    {
      "id": "537fa364-f21e-445a-80ad-47ce26ab673e",
      "cell_type": "code",
      "source": "import dash\nfrom dash import dcc, html\nimport plotly.express as px\nimport pandas as pd\n\n# Sample dataset with multiple entries for better visualization\ndata = {\n    'Date': pd.date_range(start='2020-01-01', periods=5, freq='M'),\n    'WQI_Phase_4': [53.5, 55.2, 54.1, 52.3, 56.0],\n    'pH_Phase_4': [7.6, 7.4, 7.5, 7.7, 7.6],\n    'DO_Phase_4': [8.7, 8.5, 8.9, 8.6, 8.8],\n    'Turbidity_Phase_4': [12.1, 11.8, 12.5, 12.0, 11.6]\n}\n\n# Create a DataFrame\ndf = pd.DataFrame(data)\n\n# Create figures\nfig_wqi = px.line(df, x='Date', y='WQI_Phase_4', title='Water Quality Index (WQI) Over Time')\nfig_ph = px.line(df, x='Date', y='pH_Phase_4', title='pH Levels Over Time')\nfig_do = px.line(df, x='Date', y='DO_Phase_4', title='Dissolved Oxygen (DO) Over Time')\nfig_turbidity = px.line(df, x='Date', y='Turbidity_Phase_4', title='Turbidity Over Time')\n\n# Create Dash app\napp = dash.Dash(__name__)\napp.title = 'Urban Lake Monitoring System'\n\n# App Layout\napp.layout = html.Div(children=[\n    html.H1('Urban Lake Monitoring System', style={'textAlign': 'center'}),\n    \n    html.Div([\n        dcc.Graph(id='wqi_graph', figure=fig_wqi),\n        dcc.Graph(id='ph_graph', figure=fig_ph),\n        dcc.Graph(id='do_graph', figure=fig_do),\n        dcc.Graph(id='turbidity_graph', figure=fig_turbidity)\n    ], style={'display': 'grid', 'gridTemplateColumns': '1fr 1fr', 'gap': '20px'})\n])\n\n# Run the server\nif __name__ == '__main__':\n    app.run_server(debug=True)\n",
      "metadata": {
        "trusted": true
      },
      "outputs": [],
      "execution_count": null
    }
  ]
}